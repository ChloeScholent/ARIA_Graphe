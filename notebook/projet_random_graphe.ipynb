{
 "cells": [
  {
   "cell_type": "code",
   "execution_count": 5,
   "id": "38734675-7d00-4514-b9de-8fa39b5235c8",
   "metadata": {},
   "outputs": [
    {
     "name": "stdout",
     "output_type": "stream",
     "text": [
      "0: [2, 3]\n",
      "1: [4]\n",
      "2: [0]\n",
      "3: [0]\n",
      "4: [1]\n"
     ]
    }
   ],
   "source": [
    "import random\n",
    "\n",
    "def creer_graphe_random(n, p):\n",
    "    \"\"\"\n",
    "    Crée un graphe non orienté avec n sommets.\n",
    "    Chaque paire de sommets a une probabilité p d'être connectée.\n",
    "    Retourne une liste d'adjacence.\n",
    "    \"\"\"\n",
    "    graphe = {i: [] for i in range(n)}  # initialisation du graphe\n",
    "\n",
    "    for i in range(n):\n",
    "        for j in range(i + 1, n):  # j > i pour éviter les doublons\n",
    "            if random.random() < p:\n",
    "                graphe[i].append(j)\n",
    "                graphe[j].append(i)  # non orienté → symétrique\n",
    "\n",
    "    return graphe\n",
    "\n",
    "# Exemple d'utilisation\n",
    "n = 5   # nombre de sommets\n",
    "p = 0.4 # probabilité d’arête\n",
    "\n",
    "graphe = creer_graphe_random(n, p)\n",
    "\n",
    "# Affichage du graphe\n",
    "for sommet, voisins in graphe.items():\n",
    "    print(f\"{sommet}: {voisins}\")"
   ]
  },
  {
   "cell_type": "code",
   "execution_count": 6,
   "id": "51f3b3f5-8f46-4bc8-8f68-9e3f998bd7ef",
   "metadata": {},
   "outputs": [
    {
     "data": {
      "image/png": "[encoded data removed]",
      "text/plain": [
       "<Figure size 640x480 with 1 Axes>"
      ]
     },
     "metadata": {},
     "output_type": "display_data"
    }
   ],
   "source": [
    "import matplotlib.pyplot as plt\n",
    "\n",
    "def dessiner_graphe(graphe):\n",
    "    plt.figure()\n",
    "    positions = {}\n",
    "    n = len(graphe)\n",
    "    rayon = 5\n",
    "\n",
    "    # Positionner les nœuds en cercle\n",
    "    for i, sommet in enumerate(graphe):\n",
    "        angle = 2 * 3.14159 * i / n\n",
    "        x = rayon * (1.5 + 0.5 * random.random()) * (random.random() + 0.5) * (random.choice([-1, 1])) * random.random()\n",
    "        y = rayon * (1.5 + 0.5 * random.random()) * (random.random() + 0.5) * (random.choice([-1, 1])) * random.random()\n",
    "        positions[sommet] = (x, y)\n",
    "        plt.plot(x, y, 'o')\n",
    "        plt.text(x, y, str(sommet), fontsize=12, ha='center', va='center')\n",
    "\n",
    "    # Dessiner les arêtes\n",
    "    for sommet, voisins in graphe.items():\n",
    "        x1, y1 = positions[sommet]\n",
    "        for voisin in voisins:\n",
    "            x2, y2 = positions[voisin]\n",
    "            plt.plot([x1, x2], [y1, y2], 'k-', linewidth=1)\n",
    "\n",
    "    plt.axis('off')\n",
    "    plt.show()\n",
    "\n",
    "# Affichage\n",
    "dessiner_graphe(graphe)"
   ]
  },
  {
   "cell_type": "code",
   "execution_count": null,
   "id": "b5e999e3-911f-4819-ac2a-483d6c84171f",
   "metadata": {},
   "outputs": [],
   "source": []
  }
 ],
 "metadata": {
  "kernelspec": {
   "display_name": "Python 3 (ipykernel)",
   "language": "python",
   "name": "python3"
  },
  "language_info": {
   "codemirror_mode": {
    "name": "ipython",
    "version": 3
   },
   "file_extension": ".py",
   "mimetype": "text/x-python",
   "name": "python",
   "nbconvert_exporter": "python",
   "pygments_lexer": "ipython3",
   "version": "3.12.11"
  }
 },
 "nbformat": 4,
 "nbformat_minor": 5
}
